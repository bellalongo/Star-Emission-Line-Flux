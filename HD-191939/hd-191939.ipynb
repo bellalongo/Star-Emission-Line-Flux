{
 "cells": [
  {
   "cell_type": "code",
   "execution_count": 28,
   "id": "572b7bd8",
   "metadata": {},
   "outputs": [],
   "source": [
    "import astropy.io.fits as fits\n",
    "import matplotlib.pyplot as plt\n",
    "import astropy.units as u\n",
    "import numpy as np\n",
    "import pandas as pd\n",
    "from astropy.table import Table\n",
    "from astropy.modeling.models import Voigt1D\n",
    "from astropy.modeling import fitting\n",
    "import seaborn as sns"
   ]
  },
  {
   "cell_type": "code",
   "execution_count": 2,
   "id": "bb11ea72",
   "metadata": {},
   "outputs": [],
   "source": [
    "data = fits.getdata('of0e53010_test_new_x1d.fits')\n",
    "w, f , e = data['WAVELENGTH'], data['FLUX'], data['ERROR']\n",
    "mask = (w > 1160) # change if the spectra starts at a different wavelength\n",
    "hd_wavelength_data, hd_flux_data, hd_error_data = w[mask], f[mask], e[mask]"
   ]
  },
  {
   "cell_type": "code",
   "execution_count": 3,
   "id": "dc1b373e",
   "metadata": {},
   "outputs": [
    {
     "data": {
      "text/html": [
       "<div>\n",
       "<style scoped>\n",
       "    .dataframe tbody tr th:only-of-type {\n",
       "        vertical-align: middle;\n",
       "    }\n",
       "\n",
       "    .dataframe tbody tr th {\n",
       "        vertical-align: top;\n",
       "    }\n",
       "\n",
       "    .dataframe thead th {\n",
       "        text-align: right;\n",
       "    }\n",
       "</style>\n",
       "<table border=\"1\" class=\"dataframe\">\n",
       "  <thead>\n",
       "    <tr style=\"text-align: right;\">\n",
       "      <th></th>\n",
       "      <th>Ion</th>\n",
       "      <th>Rest Wavelength</th>\n",
       "      <th>Flux</th>\n",
       "      <th>Error</th>\n",
       "      <th>Blended Line</th>\n",
       "    </tr>\n",
       "  </thead>\n",
       "  <tbody>\n",
       "    <tr>\n",
       "      <th>0</th>\n",
       "      <td>C III</td>\n",
       "      <td>1176.372</td>\n",
       "      <td>7.999070e-16</td>\n",
       "      <td>2.750151e-16</td>\n",
       "      <td>True</td>\n",
       "    </tr>\n",
       "    <tr>\n",
       "      <th>1</th>\n",
       "      <td>Si III</td>\n",
       "      <td>1206.499</td>\n",
       "      <td>-7.143874e-16</td>\n",
       "      <td>0.000000e+00</td>\n",
       "      <td>False</td>\n",
       "    </tr>\n",
       "    <tr>\n",
       "      <th>2</th>\n",
       "      <td>Si III</td>\n",
       "      <td>1303.323</td>\n",
       "      <td>-7.919437e-16</td>\n",
       "      <td>0.000000e+00</td>\n",
       "      <td>True</td>\n",
       "    </tr>\n",
       "    <tr>\n",
       "      <th>3</th>\n",
       "      <td>O V</td>\n",
       "      <td>1218.390</td>\n",
       "      <td>-3.329361e-15</td>\n",
       "      <td>0.000000e+00</td>\n",
       "      <td>False</td>\n",
       "    </tr>\n",
       "    <tr>\n",
       "      <th>4</th>\n",
       "      <td>O V</td>\n",
       "      <td>1371.292</td>\n",
       "      <td>-2.992557e-16</td>\n",
       "      <td>0.000000e+00</td>\n",
       "      <td>False</td>\n",
       "    </tr>\n",
       "    <tr>\n",
       "      <th>5</th>\n",
       "      <td>N V</td>\n",
       "      <td>1242.804</td>\n",
       "      <td>-3.968238e-16</td>\n",
       "      <td>0.000000e+00</td>\n",
       "      <td>True</td>\n",
       "    </tr>\n",
       "    <tr>\n",
       "      <th>6</th>\n",
       "      <td>S II</td>\n",
       "      <td>1259.519</td>\n",
       "      <td>-3.444762e-16</td>\n",
       "      <td>0.000000e+00</td>\n",
       "      <td>True</td>\n",
       "    </tr>\n",
       "    <tr>\n",
       "      <th>7</th>\n",
       "      <td>Si II</td>\n",
       "      <td>1265.001</td>\n",
       "      <td>-3.199288e-16</td>\n",
       "      <td>0.000000e+00</td>\n",
       "      <td>True</td>\n",
       "    </tr>\n",
       "    <tr>\n",
       "      <th>8</th>\n",
       "      <td>Si II</td>\n",
       "      <td>1304.369</td>\n",
       "      <td>-7.420895e-16</td>\n",
       "      <td>0.000000e+00</td>\n",
       "      <td>False</td>\n",
       "    </tr>\n",
       "    <tr>\n",
       "      <th>9</th>\n",
       "      <td>Si II</td>\n",
       "      <td>1533.430</td>\n",
       "      <td>-5.950202e-16</td>\n",
       "      <td>0.000000e+00</td>\n",
       "      <td>True</td>\n",
       "    </tr>\n",
       "    <tr>\n",
       "      <th>10</th>\n",
       "      <td>C II</td>\n",
       "      <td>1323.952</td>\n",
       "      <td>-2.565932e-16</td>\n",
       "      <td>0.000000e+00</td>\n",
       "      <td>True</td>\n",
       "    </tr>\n",
       "    <tr>\n",
       "      <th>11</th>\n",
       "      <td>C II</td>\n",
       "      <td>1335.709</td>\n",
       "      <td>8.659912e-16</td>\n",
       "      <td>1.296913e-16</td>\n",
       "      <td>True</td>\n",
       "    </tr>\n",
       "    <tr>\n",
       "      <th>12</th>\n",
       "      <td>Fe XXI</td>\n",
       "      <td>1354.080</td>\n",
       "      <td>1.008926e-15</td>\n",
       "      <td>1.231984e-16</td>\n",
       "      <td>False</td>\n",
       "    </tr>\n",
       "    <tr>\n",
       "      <th>13</th>\n",
       "      <td>Si IV</td>\n",
       "      <td>1402.770</td>\n",
       "      <td>-4.686653e-16</td>\n",
       "      <td>0.000000e+00</td>\n",
       "      <td>True</td>\n",
       "    </tr>\n",
       "    <tr>\n",
       "      <th>14</th>\n",
       "      <td>O IV</td>\n",
       "      <td>1407.383</td>\n",
       "      <td>-4.290589e-16</td>\n",
       "      <td>0.000000e+00</td>\n",
       "      <td>True</td>\n",
       "    </tr>\n",
       "    <tr>\n",
       "      <th>15</th>\n",
       "      <td>S IV</td>\n",
       "      <td>1406.016</td>\n",
       "      <td>-3.323253e-16</td>\n",
       "      <td>0.000000e+00</td>\n",
       "      <td>True</td>\n",
       "    </tr>\n",
       "    <tr>\n",
       "      <th>16</th>\n",
       "      <td>N IV</td>\n",
       "      <td>1486.496</td>\n",
       "      <td>-4.257554e-16</td>\n",
       "      <td>0.000000e+00</td>\n",
       "      <td>False</td>\n",
       "    </tr>\n",
       "    <tr>\n",
       "      <th>17</th>\n",
       "      <td>C IV</td>\n",
       "      <td>1550.772</td>\n",
       "      <td>-6.836082e-16</td>\n",
       "      <td>0.000000e+00</td>\n",
       "      <td>True</td>\n",
       "    </tr>\n",
       "    <tr>\n",
       "      <th>18</th>\n",
       "      <td>He II</td>\n",
       "      <td>1640.420</td>\n",
       "      <td>-8.064673e-16</td>\n",
       "      <td>0.000000e+00</td>\n",
       "      <td>False</td>\n",
       "    </tr>\n",
       "    <tr>\n",
       "      <th>19</th>\n",
       "      <td>O III</td>\n",
       "      <td>1666.142</td>\n",
       "      <td>-1.020773e-15</td>\n",
       "      <td>0.000000e+00</td>\n",
       "      <td>False</td>\n",
       "    </tr>\n",
       "  </tbody>\n",
       "</table>\n",
       "</div>"
      ],
      "text/plain": [
       "       Ion  Rest Wavelength          Flux         Error  Blended Line\n",
       "0    C III         1176.372  7.999070e-16  2.750151e-16          True\n",
       "1   Si III         1206.499 -7.143874e-16  0.000000e+00         False\n",
       "2   Si III         1303.323 -7.919437e-16  0.000000e+00          True\n",
       "3      O V         1218.390 -3.329361e-15  0.000000e+00         False\n",
       "4      O V         1371.292 -2.992557e-16  0.000000e+00         False\n",
       "5      N V         1242.804 -3.968238e-16  0.000000e+00          True\n",
       "6     S II         1259.519 -3.444762e-16  0.000000e+00          True\n",
       "7    Si II         1265.001 -3.199288e-16  0.000000e+00          True\n",
       "8    Si II         1304.369 -7.420895e-16  0.000000e+00         False\n",
       "9    Si II         1533.430 -5.950202e-16  0.000000e+00          True\n",
       "10    C II         1323.952 -2.565932e-16  0.000000e+00          True\n",
       "11    C II         1335.709  8.659912e-16  1.296913e-16          True\n",
       "12  Fe XXI         1354.080  1.008926e-15  1.231984e-16         False\n",
       "13   Si IV         1402.770 -4.686653e-16  0.000000e+00          True\n",
       "14    O IV         1407.383 -4.290589e-16  0.000000e+00          True\n",
       "15    S IV         1406.016 -3.323253e-16  0.000000e+00          True\n",
       "16    N IV         1486.496 -4.257554e-16  0.000000e+00         False\n",
       "17    C IV         1550.772 -6.836082e-16  0.000000e+00          True\n",
       "18   He II         1640.420 -8.064673e-16  0.000000e+00         False\n",
       "19   O III         1666.142 -1.020773e-15  0.000000e+00         False"
      ]
     },
     "execution_count": 3,
     "metadata": {},
     "output_type": "execute_result"
    }
   ],
   "source": [
    "# Load data from fluxpal\n",
    "hd191939_table = Table.read('hd-191939.ecsv', format='ascii.ecsv')\n",
    "hd191939_df = hd191939_table.to_pandas()\n",
    "hd191939_df"
   ]
  },
  {
   "cell_type": "code",
   "execution_count": 6,
   "id": "c4f45575-84c1-40e8-a4b9-210e64061d82",
   "metadata": {},
   "outputs": [],
   "source": [
    "data = fits.getdata('hlsp_muscles_hst_stis_tau_ceti_e140m_v1_component-spec.fits')\n",
    "w, f , e = data['WAVELENGTH'], data['FLUX'], data['ERROR']\n",
    "mask = (w > 1160) # change if the spectra starts at a different wavelength\n",
    "tc_wavelength_data, tc_flux_data, tc_error_data = w[mask], f[mask], e[mask]"
   ]
  },
  {
   "cell_type": "code",
   "execution_count": 7,
   "id": "096f228e",
   "metadata": {},
   "outputs": [
    {
     "data": {
      "text/html": [
       "<div>\n",
       "<style scoped>\n",
       "    .dataframe tbody tr th:only-of-type {\n",
       "        vertical-align: middle;\n",
       "    }\n",
       "\n",
       "    .dataframe tbody tr th {\n",
       "        vertical-align: top;\n",
       "    }\n",
       "\n",
       "    .dataframe thead th {\n",
       "        text-align: right;\n",
       "    }\n",
       "</style>\n",
       "<table border=\"1\" class=\"dataframe\">\n",
       "  <thead>\n",
       "    <tr style=\"text-align: right;\">\n",
       "      <th></th>\n",
       "      <th>Ion</th>\n",
       "      <th>Rest Wavelength</th>\n",
       "      <th>Flux</th>\n",
       "      <th>Error</th>\n",
       "      <th>Blended Line</th>\n",
       "    </tr>\n",
       "  </thead>\n",
       "  <tbody>\n",
       "    <tr>\n",
       "      <th>0</th>\n",
       "      <td>C III</td>\n",
       "      <td>1176.372</td>\n",
       "      <td>1.467025e-14</td>\n",
       "      <td>1.179191e-15</td>\n",
       "      <td>True</td>\n",
       "    </tr>\n",
       "    <tr>\n",
       "      <th>1</th>\n",
       "      <td>Si III</td>\n",
       "      <td>1206.499</td>\n",
       "      <td>3.085698e-14</td>\n",
       "      <td>8.772685e-16</td>\n",
       "      <td>False</td>\n",
       "    </tr>\n",
       "    <tr>\n",
       "      <th>2</th>\n",
       "      <td>Si III</td>\n",
       "      <td>1303.323</td>\n",
       "      <td>-1.681547e-15</td>\n",
       "      <td>0.000000e+00</td>\n",
       "      <td>True</td>\n",
       "    </tr>\n",
       "    <tr>\n",
       "      <th>3</th>\n",
       "      <td>O V</td>\n",
       "      <td>1218.390</td>\n",
       "      <td>1.113160e-14</td>\n",
       "      <td>7.765193e-16</td>\n",
       "      <td>False</td>\n",
       "    </tr>\n",
       "    <tr>\n",
       "      <th>4</th>\n",
       "      <td>O V</td>\n",
       "      <td>1371.292</td>\n",
       "      <td>-3.626990e-16</td>\n",
       "      <td>0.000000e+00</td>\n",
       "      <td>False</td>\n",
       "    </tr>\n",
       "    <tr>\n",
       "      <th>5</th>\n",
       "      <td>N V</td>\n",
       "      <td>1242.804</td>\n",
       "      <td>5.408060e-15</td>\n",
       "      <td>3.780635e-16</td>\n",
       "      <td>True</td>\n",
       "    </tr>\n",
       "    <tr>\n",
       "      <th>6</th>\n",
       "      <td>S II</td>\n",
       "      <td>1259.519</td>\n",
       "      <td>-9.326317e-16</td>\n",
       "      <td>0.000000e+00</td>\n",
       "      <td>True</td>\n",
       "    </tr>\n",
       "    <tr>\n",
       "      <th>7</th>\n",
       "      <td>Si II</td>\n",
       "      <td>1265.001</td>\n",
       "      <td>1.167004e-14</td>\n",
       "      <td>4.028759e-16</td>\n",
       "      <td>True</td>\n",
       "    </tr>\n",
       "    <tr>\n",
       "      <th>8</th>\n",
       "      <td>Si II</td>\n",
       "      <td>1304.369</td>\n",
       "      <td>-1.664752e-15</td>\n",
       "      <td>0.000000e+00</td>\n",
       "      <td>False</td>\n",
       "    </tr>\n",
       "    <tr>\n",
       "      <th>9</th>\n",
       "      <td>Si II</td>\n",
       "      <td>1533.430</td>\n",
       "      <td>2.195836e-14</td>\n",
       "      <td>7.400745e-16</td>\n",
       "      <td>True</td>\n",
       "    </tr>\n",
       "    <tr>\n",
       "      <th>10</th>\n",
       "      <td>C II</td>\n",
       "      <td>1323.952</td>\n",
       "      <td>-4.299443e-16</td>\n",
       "      <td>0.000000e+00</td>\n",
       "      <td>True</td>\n",
       "    </tr>\n",
       "    <tr>\n",
       "      <th>11</th>\n",
       "      <td>C II</td>\n",
       "      <td>1335.709</td>\n",
       "      <td>6.337210e-14</td>\n",
       "      <td>7.273489e-16</td>\n",
       "      <td>True</td>\n",
       "    </tr>\n",
       "    <tr>\n",
       "      <th>12</th>\n",
       "      <td>Fe XXI</td>\n",
       "      <td>1354.080</td>\n",
       "      <td>4.808250e-16</td>\n",
       "      <td>1.250870e-16</td>\n",
       "      <td>False</td>\n",
       "    </tr>\n",
       "    <tr>\n",
       "      <th>13</th>\n",
       "      <td>Si IV</td>\n",
       "      <td>1402.770</td>\n",
       "      <td>2.880502e-14</td>\n",
       "      <td>5.608016e-16</td>\n",
       "      <td>True</td>\n",
       "    </tr>\n",
       "    <tr>\n",
       "      <th>14</th>\n",
       "      <td>O IV</td>\n",
       "      <td>1407.383</td>\n",
       "      <td>6.568985e-15</td>\n",
       "      <td>4.889240e-16</td>\n",
       "      <td>True</td>\n",
       "    </tr>\n",
       "    <tr>\n",
       "      <th>15</th>\n",
       "      <td>S IV</td>\n",
       "      <td>1406.016</td>\n",
       "      <td>2.455577e-15</td>\n",
       "      <td>2.650183e-16</td>\n",
       "      <td>True</td>\n",
       "    </tr>\n",
       "    <tr>\n",
       "      <th>16</th>\n",
       "      <td>N IV</td>\n",
       "      <td>1486.496</td>\n",
       "      <td>-3.953356e-16</td>\n",
       "      <td>0.000000e+00</td>\n",
       "      <td>False</td>\n",
       "    </tr>\n",
       "    <tr>\n",
       "      <th>17</th>\n",
       "      <td>C IV</td>\n",
       "      <td>1550.772</td>\n",
       "      <td>6.489828e-14</td>\n",
       "      <td>9.847219e-16</td>\n",
       "      <td>True</td>\n",
       "    </tr>\n",
       "    <tr>\n",
       "      <th>18</th>\n",
       "      <td>He II</td>\n",
       "      <td>1640.420</td>\n",
       "      <td>-2.110158e-15</td>\n",
       "      <td>0.000000e+00</td>\n",
       "      <td>False</td>\n",
       "    </tr>\n",
       "    <tr>\n",
       "      <th>19</th>\n",
       "      <td>O III</td>\n",
       "      <td>1666.142</td>\n",
       "      <td>-1.570577e-15</td>\n",
       "      <td>0.000000e+00</td>\n",
       "      <td>False</td>\n",
       "    </tr>\n",
       "  </tbody>\n",
       "</table>\n",
       "</div>"
      ],
      "text/plain": [
       "       Ion  Rest Wavelength          Flux         Error  Blended Line\n",
       "0    C III         1176.372  1.467025e-14  1.179191e-15          True\n",
       "1   Si III         1206.499  3.085698e-14  8.772685e-16         False\n",
       "2   Si III         1303.323 -1.681547e-15  0.000000e+00          True\n",
       "3      O V         1218.390  1.113160e-14  7.765193e-16         False\n",
       "4      O V         1371.292 -3.626990e-16  0.000000e+00         False\n",
       "5      N V         1242.804  5.408060e-15  3.780635e-16          True\n",
       "6     S II         1259.519 -9.326317e-16  0.000000e+00          True\n",
       "7    Si II         1265.001  1.167004e-14  4.028759e-16          True\n",
       "8    Si II         1304.369 -1.664752e-15  0.000000e+00         False\n",
       "9    Si II         1533.430  2.195836e-14  7.400745e-16          True\n",
       "10    C II         1323.952 -4.299443e-16  0.000000e+00          True\n",
       "11    C II         1335.709  6.337210e-14  7.273489e-16          True\n",
       "12  Fe XXI         1354.080  4.808250e-16  1.250870e-16         False\n",
       "13   Si IV         1402.770  2.880502e-14  5.608016e-16          True\n",
       "14    O IV         1407.383  6.568985e-15  4.889240e-16          True\n",
       "15    S IV         1406.016  2.455577e-15  2.650183e-16          True\n",
       "16    N IV         1486.496 -3.953356e-16  0.000000e+00         False\n",
       "17    C IV         1550.772  6.489828e-14  9.847219e-16          True\n",
       "18   He II         1640.420 -2.110158e-15  0.000000e+00         False\n",
       "19   O III         1666.142 -1.570577e-15  0.000000e+00         False"
      ]
     },
     "execution_count": 7,
     "metadata": {},
     "output_type": "execute_result"
    }
   ],
   "source": [
    "# Load data from fluxpal\n",
    "tauceti_table = Table.read('tau-ceti.ecsv', format='ascii.ecsv')\n",
    "tauceti_df = tauceti_table.to_pandas()\n",
    "tauceti_df"
   ]
  },
  {
   "cell_type": "code",
   "execution_count": 118,
   "id": "b22589ce-ef82-45cf-8cf5-88ba41bb768e",
   "metadata": {},
   "outputs": [],
   "source": [
    "data = fits.getdata('hlsp_muscles_hst_stis_hd-120411_g140l_v2_component-spec.fits')\n",
    "w, f , e = data['WAVELENGTH'], data['FLUX'], data['ERROR']\n",
    "mask = (w > 1160) # change if the spectra starts at a different wavelength\n",
    "hd1_wavelength_data, hd1_flux_data, hd1_error_data = w[mask], f[mask], e[mask]"
   ]
  },
  {
   "cell_type": "code",
   "execution_count": 121,
   "id": "9640a7d4-088d-4388-b422-54d561d9c706",
   "metadata": {},
   "outputs": [
    {
     "data": {
      "text/plain": [
       "0.581951082805972"
      ]
     },
     "execution_count": 121,
     "metadata": {},
     "output_type": "execute_result"
    }
   ],
   "source": [
    "hd1_wavelength_data[1] - hd1_wavelength_data[0]"
   ]
  },
  {
   "cell_type": "code",
   "execution_count": 122,
   "id": "9c588e1a-09ac-407e-ab3e-2c554887962c",
   "metadata": {},
   "outputs": [
    {
     "data": {
      "text/plain": [
       "0.5836180852390953"
      ]
     },
     "execution_count": 122,
     "metadata": {},
     "output_type": "execute_result"
    }
   ],
   "source": [
    "hd_wavelength_data[1] - hd_wavelength_data[0]"
   ]
  },
  {
   "cell_type": "code",
   "execution_count": 128,
   "id": "ca13d10d-12b3-4f9d-b018-478b9e3fd611",
   "metadata": {},
   "outputs": [],
   "source": [
    "peak_width = 3.5\n",
    "wavelength = 1336\n",
    "wavelength_mask = (hd1_wavelength_data > wavelength - peak_width) & (hd1_wavelength_data < wavelength + peak_width) "
   ]
  },
  {
   "cell_type": "code",
   "execution_count": 130,
   "id": "bebcf60a-7ef4-443b-ba38-981d6a574b2b",
   "metadata": {},
   "outputs": [
    {
     "data": {
      "image/png": "[encoded data removed]",
      "text/plain": [
       "<Figure size 640x480 with 1 Axes>"
      ]
     },
     "metadata": {},
     "output_type": "display_data"
    }
   ],
   "source": [
    "plt.plot(hd1_wavelength_data[wavelength_mask], hd1_flux_data[wavelength_mask])\n",
    "plt.axvline(x=1336 - 3.5)\n",
    "plt.axvline(x=1336 + 3.5)\n",
    "plt.xlim(1330, 1340)\n",
    "plt.show()"
   ]
  },
  {
   "cell_type": "code",
   "execution_count": 115,
   "id": "a1f26f01-75fd-4634-b6c9-0bfd6c4357ba",
   "metadata": {},
   "outputs": [],
   "source": [
    "peak_width = 3\n",
    "wavelength = 1334\n",
    "wavelength_mask = (hd_wavelength_data > wavelength - peak_width) & (hd_wavelength_data < wavelength + peak_width) "
   ]
  },
  {
   "cell_type": "code",
   "execution_count": 117,
   "id": "0a1d4a58-eb05-4299-a07a-21bb8434b120",
   "metadata": {},
   "outputs": [
    {
     "data": {
      "image/png": "[encoded data removed]",
      "text/plain": [
       "<Figure size 640x480 with 1 Axes>"
      ]
     },
     "metadata": {},
     "output_type": "display_data"
    }
   ],
   "source": [
    "plt.plot(hd_wavelength_data[wavelength_mask], hd_flux_data[wavelength_mask])\n",
    "plt.axvline(x=1334 - 3)\n",
    "plt.axvline(x=1334 + 3)\n",
    "plt.xlim(1330, 1340)\n",
    "plt.show()"
   ]
  },
  {
   "cell_type": "code",
   "execution_count": 113,
   "id": "1e7910f3-d5a9-4337-bf4a-87adc15575b2",
   "metadata": {},
   "outputs": [
    {
     "name": "stdout",
     "output_type": "stream",
     "text": [
      "[[Model]]\n",
      "    Model(voigt_fit)\n",
      "[[Fit Statistics]]\n",
      "    # fitting method   = leastsq\n",
      "    # function evals   = 10\n",
      "    # data points      = 12\n",
      "    # variables        = 8\n",
      "    chi-square         = 3.5911e-32\n",
      "    reduced chi-square = 8.9778e-33\n",
      "    Akaike info crit   = -882.669939\n",
      "    Bayesian info crit = -878.790685\n",
      "    R-squared          = 1.00000000\n",
      "##  Warning: uncertainties could not be estimated:\n",
      "    amplitude_0:  at initial value\n",
      "    x_0_0:        at initial value\n",
      "    fwhm_L_0:     at initial value\n",
      "    fwhm_G_0:     at initial value\n",
      "    amplitude_1:  at initial value\n",
      "    x_0_1:        at initial value\n",
      "    fwhm_L_1:     at initial value\n",
      "    fwhm_G_1:     at initial value\n",
      "[[Variables]]\n",
      "    amplitude_0:  1.3668e-15 (init = 9.180386e-16)\n",
      "    x_0_0:        1334.00000 (init = 1334)\n",
      "    fwhm_L_0:     0.20000000 (init = 0.2)\n",
      "    fwhm_G_0:     0.20000000 (init = 0.2)\n",
      "    amplitude_1:  1.2224e-15 (init = 2e-16)\n",
      "    x_0_1:        1336.00000 (init = 1336)\n",
      "    fwhm_L_1:     0.20000000 (init = 0.2)\n",
      "    fwhm_G_1:     0.20000000 (init = 0.2)\n"
     ]
    },
    {
     "data": {
      "image/png": "[encoded data removed]",
      "text/plain": [
       "<Figure size 640x480 with 1 Axes>"
      ]
     },
     "metadata": {},
     "output_type": "display_data"
    }
   ],
   "source": [
    "## import numpy as np\n",
    "from astropy.modeling.models import Voigt1D\n",
    "from lmfit import Model, Parameters\n",
    "\n",
    "# Define your data\n",
    "# Assuming you have defined:\n",
    "# wavelength: array of wavelengths\n",
    "# hd_flux_data: array of flux values\n",
    "# wavelength_mask: mask for the wavelength region of interest\n",
    "\n",
    "# Define the Voigt profile model\n",
    "voigt_model = Voigt1D()\n",
    "\n",
    "# Define a fitting function that returns the model's values\n",
    "def voigt_fit(x, **params):\n",
    "    y = np.zeros_like(x)\n",
    "    num_profiles = len(params) // 4  # Each profile has 4 parameters\n",
    "    for i in range(num_profiles):\n",
    "        amplitude = params[f'amplitude_{i}']\n",
    "        x_0 = params[f'x_0_{i}']\n",
    "        fwhm_L = params[f'fwhm_L_{i}']\n",
    "        fwhm_G = params[f'fwhm_G_{i}']\n",
    "        voigt_model.amplitude_L = amplitude\n",
    "        voigt_model.x_0 = x_0\n",
    "        voigt_model.fwhm_L = fwhm_L\n",
    "        voigt_model.fwhm_G = fwhm_G\n",
    "        y += voigt_model(x)\n",
    "    return y\n",
    "\n",
    "# Create an lmfit model\n",
    "lmfit_model = Model(voigt_fit)\n",
    "\n",
    "# Set initial parameter values\n",
    "num_peaks = 2  # Example: Fit two Voigt profiles\n",
    "params = Parameters()\n",
    "init_amp = np.max(hd_flux_data[wavelength_mask]) \n",
    "init_x0 = wavelength\n",
    "init_fwhm_g = 0.2\n",
    "init_fwhm_l = 0.2\n",
    "params.add(f'amplitude_{0}', value=init_amp)\n",
    "params.add(f'x_0_{0}', value=init_x0)\n",
    "params.add(f'fwhm_L_{0}', value=init_fwhm_l)\n",
    "params.add(f'fwhm_G_{0}', value=init_fwhm_g)\n",
    "params.add(f'amplitude_{1}', value=2e-16)\n",
    "params.add(f'x_0_{1}', value=1336)\n",
    "params.add(f'fwhm_L_{1}', value=init_fwhm_l)\n",
    "params.add(f'fwhm_G_{1}', value=init_fwhm_g)\n",
    "    \n",
    "# Fit the model to the data\n",
    "result = lmfit_model.fit(hd_flux_data[wavelength_mask], params=params, x=hd_wavelength_data[wavelength_mask])\n",
    "\n",
    "# Print fit report\n",
    "print(result.fit_report())\n",
    "\n",
    "# Plot the results\n",
    "plt.plot(hd_wavelength_data[wavelength_mask], hd_flux_data[wavelength_mask], label='Data')\n",
    "plt.plot(hd_wavelength_data[wavelength_mask], result.best_fit, label='Fit')\n",
    "plt.legend()\n",
    "plt.show()\n"
   ]
  },
  {
   "cell_type": "code",
   "execution_count": 83,
   "id": "c50aeb14-0bc1-4618-8725-8c388782aca6",
   "metadata": {},
   "outputs": [
    {
     "ename": "NonFiniteValueError",
     "evalue": "Objective function has encountered a non-finite value, this will cause the fit to fail!\nPlease remove non-finite values from your input data before fitting to avoid this error.",
     "output_type": "error",
     "traceback": [
      "\u001b[0;31m---------------------------------------------------------------------------\u001b[0m",
      "\u001b[0;31mNonFiniteValueError\u001b[0m                       Traceback (most recent call last)",
      "Cell \u001b[0;32mIn[83], line 9\u001b[0m\n\u001b[1;32m      7\u001b[0m voigt_profile \u001b[38;5;241m=\u001b[39m Voigt1D(x_0 \u001b[38;5;241m=\u001b[39m init_x0, amplitude_L \u001b[38;5;241m=\u001b[39m init_amp, fwhm_L \u001b[38;5;241m=\u001b[39m init_fwhm_l, fwhm_G \u001b[38;5;241m=\u001b[39m init_fwhm_g)\n\u001b[1;32m      8\u001b[0m fitter \u001b[38;5;241m=\u001b[39m fitting\u001b[38;5;241m.\u001b[39mLevMarLSQFitter()\n\u001b[0;32m----> 9\u001b[0m fitted_model \u001b[38;5;241m=\u001b[39m \u001b[43mfitter\u001b[49m\u001b[43m(\u001b[49m\u001b[43mvoigt_profile\u001b[49m\u001b[43m,\u001b[49m\u001b[43m \u001b[49m\u001b[43mhd_wavelength_data\u001b[49m\u001b[43m[\u001b[49m\u001b[43mwavelength_mask\u001b[49m\u001b[43m]\u001b[49m\u001b[43m,\u001b[49m\u001b[43m \u001b[49m\u001b[43mhd_flux_data\u001b[49m\u001b[43m[\u001b[49m\u001b[43mwavelength_mask\u001b[49m\u001b[43m]\u001b[49m\u001b[43m)\u001b[49m\n",
      "File \u001b[0;32m~/anaconda3/envs/emission_line_ENV/lib/python3.12/site-packages/astropy/modeling/fitting.py:301\u001b[0m, in \u001b[0;36mfitter_unit_support.<locals>.wrapper\u001b[0;34m(self, model, x, y, z, **kwargs)\u001b[0m\n\u001b[1;32m    296\u001b[0m         \u001b[38;5;28;01mraise\u001b[39;00m \u001b[38;5;167;01mNotImplementedError\u001b[39;00m(\n\u001b[1;32m    297\u001b[0m             \u001b[38;5;124m\"\u001b[39m\u001b[38;5;124mThis model does not support being fit to data with units.\u001b[39m\u001b[38;5;124m\"\u001b[39m\n\u001b[1;32m    298\u001b[0m         )\n\u001b[1;32m    300\u001b[0m \u001b[38;5;28;01melse\u001b[39;00m:\n\u001b[0;32m--> 301\u001b[0m     \u001b[38;5;28;01mreturn\u001b[39;00m \u001b[43mfunc\u001b[49m\u001b[43m(\u001b[49m\u001b[38;5;28;43mself\u001b[39;49m\u001b[43m,\u001b[49m\u001b[43m \u001b[49m\u001b[43mmodel\u001b[49m\u001b[43m,\u001b[49m\u001b[43m \u001b[49m\u001b[43mx\u001b[49m\u001b[43m,\u001b[49m\u001b[43m \u001b[49m\u001b[43my\u001b[49m\u001b[43m,\u001b[49m\u001b[43m \u001b[49m\u001b[43mz\u001b[49m\u001b[38;5;241;43m=\u001b[39;49m\u001b[43mz\u001b[49m\u001b[43m,\u001b[49m\u001b[43m \u001b[49m\u001b[38;5;241;43m*\u001b[39;49m\u001b[38;5;241;43m*\u001b[39;49m\u001b[43mkwargs\u001b[49m\u001b[43m)\u001b[49m\n",
      "File \u001b[0;32m~/anaconda3/envs/emission_line_ENV/lib/python3.12/site-packages/astropy/modeling/fitting.py:1366\u001b[0m, in \u001b[0;36m_NonLinearLSQFitter.__call__\u001b[0;34m(self, model, x, y, z, weights, maxiter, acc, epsilon, estimate_jacobian, filter_non_finite)\u001b[0m\n\u001b[1;32m   1360\u001b[0m     x, y, z, weights \u001b[38;5;241m=\u001b[39m \u001b[38;5;28mself\u001b[39m\u001b[38;5;241m.\u001b[39m_filter_non_finite(x, y, z, weights)\n\u001b[1;32m   1361\u001b[0m farg \u001b[38;5;241m=\u001b[39m (\n\u001b[1;32m   1362\u001b[0m     model_copy,\n\u001b[1;32m   1363\u001b[0m     weights,\n\u001b[1;32m   1364\u001b[0m ) \u001b[38;5;241m+\u001b[39m _convert_input(x, y, z)\n\u001b[0;32m-> 1366\u001b[0m init_values, fitparams, cov_x \u001b[38;5;241m=\u001b[39m \u001b[38;5;28;43mself\u001b[39;49m\u001b[38;5;241;43m.\u001b[39;49m\u001b[43m_run_fitter\u001b[49m\u001b[43m(\u001b[49m\n\u001b[1;32m   1367\u001b[0m \u001b[43m    \u001b[49m\u001b[43mmodel_copy\u001b[49m\u001b[43m,\u001b[49m\u001b[43m \u001b[49m\u001b[43mfarg\u001b[49m\u001b[43m,\u001b[49m\u001b[43m \u001b[49m\u001b[43mmaxiter\u001b[49m\u001b[43m,\u001b[49m\u001b[43m \u001b[49m\u001b[43macc\u001b[49m\u001b[43m,\u001b[49m\u001b[43m \u001b[49m\u001b[43mepsilon\u001b[49m\u001b[43m,\u001b[49m\u001b[43m \u001b[49m\u001b[43mestimate_jacobian\u001b[49m\n\u001b[1;32m   1368\u001b[0m \u001b[43m\u001b[49m\u001b[43m)\u001b[49m\n\u001b[1;32m   1370\u001b[0m \u001b[38;5;28mself\u001b[39m\u001b[38;5;241m.\u001b[39m_compute_param_cov(\n\u001b[1;32m   1371\u001b[0m     model_copy, y, init_values, cov_x, fitparams, farg, weights\n\u001b[1;32m   1372\u001b[0m )\n\u001b[1;32m   1374\u001b[0m model\u001b[38;5;241m.\u001b[39msync_constraints \u001b[38;5;241m=\u001b[39m \u001b[38;5;28;01mTrue\u001b[39;00m\n",
      "File \u001b[0;32m~/anaconda3/envs/emission_line_ENV/lib/python3.12/site-packages/astropy/modeling/fitting.py:1432\u001b[0m, in \u001b[0;36mLevMarLSQFitter._run_fitter\u001b[0;34m(self, model, farg, maxiter, acc, epsilon, estimate_jacobian)\u001b[0m\n\u001b[1;32m   1430\u001b[0m     dfunc \u001b[38;5;241m=\u001b[39m \u001b[38;5;28mself\u001b[39m\u001b[38;5;241m.\u001b[39m_wrap_deriv\n\u001b[1;32m   1431\u001b[0m init_values, _, _ \u001b[38;5;241m=\u001b[39m model_to_fit_params(model)\n\u001b[0;32m-> 1432\u001b[0m fitparams, cov_x, dinfo, mess, ierr \u001b[38;5;241m=\u001b[39m \u001b[43moptimize\u001b[49m\u001b[38;5;241;43m.\u001b[39;49m\u001b[43mleastsq\u001b[49m\u001b[43m(\u001b[49m\n\u001b[1;32m   1433\u001b[0m \u001b[43m    \u001b[49m\u001b[38;5;28;43mself\u001b[39;49m\u001b[38;5;241;43m.\u001b[39;49m\u001b[43mobjective_function\u001b[49m\u001b[43m,\u001b[49m\n\u001b[1;32m   1434\u001b[0m \u001b[43m    \u001b[49m\u001b[43minit_values\u001b[49m\u001b[43m,\u001b[49m\n\u001b[1;32m   1435\u001b[0m \u001b[43m    \u001b[49m\u001b[43margs\u001b[49m\u001b[38;5;241;43m=\u001b[39;49m\u001b[43mfarg\u001b[49m\u001b[43m,\u001b[49m\n\u001b[1;32m   1436\u001b[0m \u001b[43m    \u001b[49m\u001b[43mDfun\u001b[49m\u001b[38;5;241;43m=\u001b[39;49m\u001b[43mdfunc\u001b[49m\u001b[43m,\u001b[49m\n\u001b[1;32m   1437\u001b[0m \u001b[43m    \u001b[49m\u001b[43mcol_deriv\u001b[49m\u001b[38;5;241;43m=\u001b[39;49m\u001b[43mmodel\u001b[49m\u001b[38;5;241;43m.\u001b[39;49m\u001b[43mcol_fit_deriv\u001b[49m\u001b[43m,\u001b[49m\n\u001b[1;32m   1438\u001b[0m \u001b[43m    \u001b[49m\u001b[43mmaxfev\u001b[49m\u001b[38;5;241;43m=\u001b[39;49m\u001b[43mmaxiter\u001b[49m\u001b[43m,\u001b[49m\n\u001b[1;32m   1439\u001b[0m \u001b[43m    \u001b[49m\u001b[43mepsfcn\u001b[49m\u001b[38;5;241;43m=\u001b[39;49m\u001b[43mepsilon\u001b[49m\u001b[43m,\u001b[49m\n\u001b[1;32m   1440\u001b[0m \u001b[43m    \u001b[49m\u001b[43mxtol\u001b[49m\u001b[38;5;241;43m=\u001b[39;49m\u001b[43macc\u001b[49m\u001b[43m,\u001b[49m\n\u001b[1;32m   1441\u001b[0m \u001b[43m    \u001b[49m\u001b[43mfull_output\u001b[49m\u001b[38;5;241;43m=\u001b[39;49m\u001b[38;5;28;43;01mTrue\u001b[39;49;00m\u001b[43m,\u001b[49m\n\u001b[1;32m   1442\u001b[0m \u001b[43m\u001b[49m\u001b[43m)\u001b[49m\n\u001b[1;32m   1443\u001b[0m fitter_to_model_params(model, fitparams)\n\u001b[1;32m   1444\u001b[0m \u001b[38;5;28mself\u001b[39m\u001b[38;5;241m.\u001b[39mfit_info\u001b[38;5;241m.\u001b[39mupdate(dinfo)\n",
      "File \u001b[0;32m~/anaconda3/envs/emission_line_ENV/lib/python3.12/site-packages/scipy/optimize/_minpack_py.py:437\u001b[0m, in \u001b[0;36mleastsq\u001b[0;34m(func, x0, args, Dfun, full_output, col_deriv, ftol, xtol, gtol, maxfev, epsfcn, factor, diag)\u001b[0m\n\u001b[1;32m    435\u001b[0m     \u001b[38;5;28;01mif\u001b[39;00m maxfev \u001b[38;5;241m==\u001b[39m \u001b[38;5;241m0\u001b[39m:\n\u001b[1;32m    436\u001b[0m         maxfev \u001b[38;5;241m=\u001b[39m \u001b[38;5;241m100\u001b[39m \u001b[38;5;241m*\u001b[39m (n \u001b[38;5;241m+\u001b[39m \u001b[38;5;241m1\u001b[39m)\n\u001b[0;32m--> 437\u001b[0m     retval \u001b[38;5;241m=\u001b[39m \u001b[43m_minpack\u001b[49m\u001b[38;5;241;43m.\u001b[39;49m\u001b[43m_lmder\u001b[49m\u001b[43m(\u001b[49m\u001b[43mfunc\u001b[49m\u001b[43m,\u001b[49m\u001b[43m \u001b[49m\u001b[43mDfun\u001b[49m\u001b[43m,\u001b[49m\u001b[43m \u001b[49m\u001b[43mx0\u001b[49m\u001b[43m,\u001b[49m\u001b[43m \u001b[49m\u001b[43margs\u001b[49m\u001b[43m,\u001b[49m\u001b[43m \u001b[49m\u001b[43mfull_output\u001b[49m\u001b[43m,\u001b[49m\n\u001b[1;32m    438\u001b[0m \u001b[43m                             \u001b[49m\u001b[43mcol_deriv\u001b[49m\u001b[43m,\u001b[49m\u001b[43m \u001b[49m\u001b[43mftol\u001b[49m\u001b[43m,\u001b[49m\u001b[43m \u001b[49m\u001b[43mxtol\u001b[49m\u001b[43m,\u001b[49m\u001b[43m \u001b[49m\u001b[43mgtol\u001b[49m\u001b[43m,\u001b[49m\u001b[43m \u001b[49m\u001b[43mmaxfev\u001b[49m\u001b[43m,\u001b[49m\n\u001b[1;32m    439\u001b[0m \u001b[43m                             \u001b[49m\u001b[43mfactor\u001b[49m\u001b[43m,\u001b[49m\u001b[43m \u001b[49m\u001b[43mdiag\u001b[49m\u001b[43m)\u001b[49m\n\u001b[1;32m    441\u001b[0m errors \u001b[38;5;241m=\u001b[39m {\u001b[38;5;241m0\u001b[39m: [\u001b[38;5;124m\"\u001b[39m\u001b[38;5;124mImproper input parameters.\u001b[39m\u001b[38;5;124m\"\u001b[39m, \u001b[38;5;167;01mTypeError\u001b[39;00m],\n\u001b[1;32m    442\u001b[0m           \u001b[38;5;241m1\u001b[39m: [\u001b[38;5;124m\"\u001b[39m\u001b[38;5;124mBoth actual and predicted relative reductions \u001b[39m\u001b[38;5;124m\"\u001b[39m\n\u001b[1;32m    443\u001b[0m               \u001b[38;5;124m\"\u001b[39m\u001b[38;5;124min the sum of squares\u001b[39m\u001b[38;5;130;01m\\n\u001b[39;00m\u001b[38;5;124m  are at most \u001b[39m\u001b[38;5;132;01m%f\u001b[39;00m\u001b[38;5;124m\"\u001b[39m \u001b[38;5;241m%\u001b[39m ftol, \u001b[38;5;28;01mNone\u001b[39;00m],\n\u001b[0;32m   (...)\u001b[0m\n\u001b[1;32m    462\u001b[0m               \u001b[38;5;124m\"\u001b[39m\u001b[38;5;124mcolumns of\u001b[39m\u001b[38;5;130;01m\\n\u001b[39;00m\u001b[38;5;124m  the Jacobian to machine \u001b[39m\u001b[38;5;124m\"\u001b[39m\n\u001b[1;32m    463\u001b[0m               \u001b[38;5;124m\"\u001b[39m\u001b[38;5;124mprecision.\u001b[39m\u001b[38;5;124m\"\u001b[39m \u001b[38;5;241m%\u001b[39m gtol, \u001b[38;5;167;01mValueError\u001b[39;00m]}\n\u001b[1;32m    465\u001b[0m \u001b[38;5;66;03m# The FORTRAN return value (possible return values are >= 0 and <= 8)\u001b[39;00m\n",
      "File \u001b[0;32m~/anaconda3/envs/emission_line_ENV/lib/python3.12/site-packages/astropy/modeling/fitting.py:1142\u001b[0m, in \u001b[0;36m_NonLinearLSQFitter.objective_function\u001b[0;34m(self, fps, *args)\u001b[0m\n\u001b[1;32m   1139\u001b[0m     value \u001b[38;5;241m=\u001b[39m np\u001b[38;5;241m.\u001b[39mravel(weights \u001b[38;5;241m*\u001b[39m (model(\u001b[38;5;241m*\u001b[39margs[\u001b[38;5;241m2\u001b[39m:\u001b[38;5;241m-\u001b[39m\u001b[38;5;241m1\u001b[39m]) \u001b[38;5;241m-\u001b[39m meas))\n\u001b[1;32m   1141\u001b[0m \u001b[38;5;28;01mif\u001b[39;00m \u001b[38;5;129;01mnot\u001b[39;00m np\u001b[38;5;241m.\u001b[39mall(np\u001b[38;5;241m.\u001b[39misfinite(value)):\n\u001b[0;32m-> 1142\u001b[0m     \u001b[38;5;28;01mraise\u001b[39;00m NonFiniteValueError(\n\u001b[1;32m   1143\u001b[0m         \u001b[38;5;124m\"\u001b[39m\u001b[38;5;124mObjective function has encountered a non-finite value, \u001b[39m\u001b[38;5;124m\"\u001b[39m\n\u001b[1;32m   1144\u001b[0m         \u001b[38;5;124m\"\u001b[39m\u001b[38;5;124mthis will cause the fit to fail!\u001b[39m\u001b[38;5;130;01m\\n\u001b[39;00m\u001b[38;5;124m\"\u001b[39m\n\u001b[1;32m   1145\u001b[0m         \u001b[38;5;124m\"\u001b[39m\u001b[38;5;124mPlease remove non-finite values from your input data before \u001b[39m\u001b[38;5;124m\"\u001b[39m\n\u001b[1;32m   1146\u001b[0m         \u001b[38;5;124m\"\u001b[39m\u001b[38;5;124mfitting to avoid this error.\u001b[39m\u001b[38;5;124m\"\u001b[39m\n\u001b[1;32m   1147\u001b[0m     )\n\u001b[1;32m   1149\u001b[0m \u001b[38;5;28;01mreturn\u001b[39;00m value\n",
      "\u001b[0;31mNonFiniteValueError\u001b[0m: Objective function has encountered a non-finite value, this will cause the fit to fail!\nPlease remove non-finite values from your input data before fitting to avoid this error."
     ]
    }
   ],
   "source": [
    "init_x0 = wavelength\n",
    "init_amp = np.max(hd_flux_data[wavelength_mask]) \n",
    "init_fwhm_g = peak_width/5\n",
    "init_fwhm_l = peak_width/5\n",
    "\n",
    "# Voigt distributions\n",
    "voigt_profile = Voigt1D(x_0 = init_x0, amplitude_L = init_amp, fwhm_L = init_fwhm_l, fwhm_G = init_fwhm_g)\n",
    "fitter = fitting.LevMarLSQFitter()\n",
    "fitted_model = fitter(voigt_profile, hd_wavelength_data[wavelength_mask], hd_flux_data[wavelength_mask])"
   ]
  },
  {
   "cell_type": "code",
   "execution_count": 80,
   "id": "5ce2838d-71b5-4c08-964e-6654bc2e16ba",
   "metadata": {},
   "outputs": [],
   "source": [
    "peak_width = 5.0\n",
    "wavelength = 1334.46\n",
    "wavelength_mask = (tc_wavelength_data > wavelength - peak_width) & (tc_wavelength_data < wavelength + peak_width) "
   ]
  },
  {
   "cell_type": "code",
   "execution_count": 79,
   "id": "df735377-c6db-4d6d-92c5-dd50060a7953",
   "metadata": {},
   "outputs": [
    {
     "data": {
      "text/plain": [
       "0.20261998281353044"
      ]
     },
     "execution_count": 79,
     "metadata": {},
     "output_type": "execute_result"
    }
   ],
   "source": [
    "spectral_resolution = 11*(tc_wavelength_data[1] - tc_wavelength_data[0])\n",
    "spectral_resolution"
   ]
  },
  {
   "cell_type": "code",
   "execution_count": 78,
   "id": "6cec89b4",
   "metadata": {},
   "outputs": [
    {
     "data": {
      "image/png": "[encoded data removed]",
      "text/plain": [
       "<Figure size 640x480 with 1 Axes>"
      ]
     },
     "metadata": {},
     "output_type": "display_data"
    }
   ],
   "source": [
    "plt.plot(tc_wavelength_data, tc_flux_data)\n",
    "plt.axvline(x=1334.46 - spectral_resolution)\n",
    "plt.axvline(x=1334.46 + spectral_resolution)\n",
    "plt.ylim(-0.5e-12, 1e-12)\n",
    "plt.xlim(1334, 1335)\n",
    "plt.show()"
   ]
  },
  {
   "cell_type": "code",
   "execution_count": 100,
   "id": "8ebd0485",
   "metadata": {},
   "outputs": [
    {
     "name": "stdout",
     "output_type": "stream",
     "text": [
      "Ratio T-H: [73.17868505]\n"
     ]
    }
   ],
   "source": [
    "# Compare Fe XII\n",
    "tauceti_cii = tauceti_df.loc[tauceti_df['Rest Wavelength'] == 1335.709, 'Flux'].values\n",
    "hd191939_cii = hd191939_df.loc[hd191939_df['Rest Wavelength'] == 1335.709, 'Flux'].values\n",
    "print(f\"Ratio T-H: {tauceti_cii/hd191939_cii}\")"
   ]
  },
  {
   "cell_type": "code",
   "execution_count": 101,
   "id": "417fc416",
   "metadata": {},
   "outputs": [
    {
     "name": "stdout",
     "output_type": "stream",
     "text": [
      "Ratio T-H: [0.47657132]\n"
     ]
    }
   ],
   "source": [
    "# Compare Fe XII\n",
    "tauceti_cii = tauceti_df.loc[tauceti_df['Rest Wavelength'] == 1354.080, 'Flux'].values\n",
    "hd191939_cii = hd191939_df.loc[hd191939_df['Rest Wavelength'] == 1354.080, 'Flux'].values\n",
    "print(f\"Ratio T-H: {tauceti_cii/hd191939_cii}\")"
   ]
  },
  {
   "cell_type": "code",
   "execution_count": null,
   "id": "46d806b8",
   "metadata": {},
   "outputs": [],
   "source": []
  }
 ],
 "metadata": {
  "kernelspec": {
   "display_name": "Python 3 (ipykernel)",
   "language": "python",
   "name": "python3"
  },
  "language_info": {
   "codemirror_mode": {
    "name": "ipython",
    "version": 3
   },
   "file_extension": ".py",
   "mimetype": "text/x-python",
   "name": "python",
   "nbconvert_exporter": "python",
   "pygments_lexer": "ipython3",
   "version": "3.12.2"
  }
 },
 "nbformat": 4,
 "nbformat_minor": 5
}
